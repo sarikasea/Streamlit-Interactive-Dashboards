{
  "nbformat": 4,
  "nbformat_minor": 0,
  "metadata": {
    "colab": {
      "provenance": [],
      "authorship_tag": "ABX9TyMYYthSIdoF/h6gJyWLIsCF",
      "include_colab_link": true
    },
    "kernelspec": {
      "name": "python3",
      "display_name": "Python 3"
    },
    "language_info": {
      "name": "python"
    }
  },
  "cells": [
    {
      "cell_type": "markdown",
      "metadata": {
        "id": "view-in-github",
        "colab_type": "text"
      },
      "source": [
        "<a href=\"https://colab.research.google.com/github/sarikasea/Streamlit-Interactive-Dashboards/blob/main/Streamlit_Twitter_Airline_Data.ipynb\" target=\"_parent\"><img src=\"https://colab.research.google.com/assets/colab-badge.svg\" alt=\"Open In Colab\"/></a>"
      ]
    },
    {
      "cell_type": "code",
      "execution_count": 1,
      "metadata": {
        "id": "4RrtVXwRMA6O",
        "colab": {
          "base_uri": "https://localhost:8080/"
        },
        "outputId": "603f0078-7e77-490e-bb42-679e554c0b4d"
      },
      "outputs": [
        {
          "output_type": "stream",
          "name": "stdout",
          "text": [
            "mkdir: cannot create directory ‘hello-ngrok’: File exists\n"
          ]
        }
      ],
      "source": [
        "!mkdir hello-ngrok\n",
        "!cd hello-ngrok"
      ]
    },
    {
      "cell_type": "code",
      "source": [
        "# Install the ngrok python package\n",
        "!pip install -q ngrok\n",
        "!pip install -q streamlit\n",
        "!pip install -q pyngrok"
      ],
      "metadata": {
        "id": "JAyMd3txGXMi"
      },
      "execution_count": 2,
      "outputs": []
    },
    {
      "cell_type": "code",
      "source": [
        "%%writefile hello-ngrok/app.py\n",
        "import streamlit as st\n",
        "import pandas as pd\n",
        "import numpy as np\n",
        "import time\n",
        "\n",
        "st.title(\"Sentiment Analysis of Tweets about US Airlines\")\n",
        "st.sidebar.title(\"Sentiment Analysis of Tweets about US Airlines\")\n",
        "\n",
        "st.markdown(\"This application is a Streamlit dashboard to analyze the sentiment of Tweets 🐦\")\n",
        "st.sidebar.markdown(\"This application is a Streamlit dashboard to analyze the sentiment of Tweets 🐦\")\n",
        "\n",
        "DATA_URL = (\"/content/hello-ngrok/Tweets.csv\")\n",
        "\n",
        "@st.cache_data(persist=True)\n",
        "def load_data():\n",
        "    data = pd.read_csv(DATA_URL)\n",
        "    data['tweet_created'] = pd.to_datetime(data['tweet_created'])\n",
        "    return data\n",
        "\n",
        "data = load_data()\n",
        "st.write(data)\n",
        "#wouldnt ususally show data unless it's for debugging services\n",
        "\n",
        "st.sidebar.subheader(\"Show random tweet\")\n",
        "random_tweet = st.sidebar.radio('Sentiment', ('positive', 'neutral', 'negative'))\n",
        "st.sidebar.markdown(data.query('airline_sentiment == @random_tweet')[[\"text\"]].sample(n=1).iat[0,0])\n",
        "\n"
      ],
      "metadata": {
        "id": "P5pMMIqMGddA",
        "colab": {
          "base_uri": "https://localhost:8080/"
        },
        "outputId": "d412e30e-bd25-4146-9e93-427030bcaad5"
      },
      "execution_count": 32,
      "outputs": [
        {
          "output_type": "stream",
          "name": "stdout",
          "text": [
            "Overwriting hello-ngrok/app.py\n"
          ]
        }
      ]
    },
    {
      "cell_type": "code",
      "source": [],
      "metadata": {
        "id": "CghyzhlWSfBa"
      },
      "execution_count": 11,
      "outputs": []
    },
    {
      "cell_type": "code",
      "source": [],
      "metadata": {
        "id": "4eRbPUOkSfMB"
      },
      "execution_count": null,
      "outputs": []
    },
    {
      "cell_type": "markdown",
      "source": [
        "# Ngrok Run"
      ],
      "metadata": {
        "id": "91iZ8t8acxxK"
      }
    },
    {
      "cell_type": "code",
      "source": [
        "import os\n",
        "from google.colab import userdata\n",
        "from pyngrok import ngrok\n",
        "\n",
        "# Retrieve the authtoken from Colab Secrets\n",
        "try:\n",
        "    ngrok_authtoken = userdata.get('NGROK_AUTHTOKEN')\n",
        "    if ngrok_authtoken is None:\n",
        "        raise ValueError(\"NGROK_AUTHTOKEN not found in Colab Secrets. Please add it.\")\n",
        "    os.environ[\"NGROK_AUTHTOKEN\"] = ngrok_authtoken\n",
        "    print(\"ngrok authtoken loaded from Colab Secrets.\")\n",
        "except ValueError as e:\n",
        "    print(f\"Error: {e}\")\n",
        "    print(\"Please add your NGROK_AUTHTOKEN to Colab Secrets using the key icon on the left sidebar.\")\n",
        "    # Exit or stop execution if authtoken is missing\n",
        "    raise\n",
        "\n",
        "# Start ngrok tunnel\n",
        "public_url = ngrok.connect(addr=\"8501\", bind_tls=True)\n",
        "print(f\"ngrok tunnel established at: {public_url}\")\n",
        "\n",
        "# Now run the Streamlit app in the background\n",
        "get_ipython().system_raw('streamlit run hello-ngrok/app.py &')"
      ],
      "metadata": {
        "id": "-DWpi0KESfTR",
        "colab": {
          "base_uri": "https://localhost:8080/"
        },
        "outputId": "2854dc7b-6267-43d3-e77c-5f7916b328b1"
      },
      "execution_count": 11,
      "outputs": [
        {
          "output_type": "stream",
          "name": "stdout",
          "text": [
            "ngrok authtoken loaded from Colab Secrets.\n",
            "ngrok tunnel established at: NgrokTunnel: \"https://88de9ecdfcdd.ngrok-free.app\" -> \"http://localhost:8501\"\n"
          ]
        }
      ]
    },
    {
      "cell_type": "code",
      "source": [],
      "metadata": {
        "id": "gcEOODK_Sfda"
      },
      "execution_count": null,
      "outputs": []
    },
    {
      "cell_type": "code",
      "source": [],
      "metadata": {
        "id": "eUGKBxhiSff3"
      },
      "execution_count": null,
      "outputs": []
    },
    {
      "cell_type": "code",
      "source": [],
      "metadata": {
        "id": "gxPCjV3kSfh4"
      },
      "execution_count": null,
      "outputs": []
    },
    {
      "cell_type": "code",
      "source": [],
      "metadata": {
        "id": "BESO0qDySfkP"
      },
      "execution_count": null,
      "outputs": []
    },
    {
      "cell_type": "code",
      "source": [],
      "metadata": {
        "id": "JdKQwlocSfmj"
      },
      "execution_count": null,
      "outputs": []
    },
    {
      "cell_type": "code",
      "source": [],
      "metadata": {
        "id": "GXCFlsXSSfn5"
      },
      "execution_count": null,
      "outputs": []
    },
    {
      "cell_type": "code",
      "source": [],
      "metadata": {
        "id": "bDFGqk2SSfpm"
      },
      "execution_count": null,
      "outputs": []
    },
    {
      "cell_type": "markdown",
      "source": [
        "# My Code from Gemini"
      ],
      "metadata": {
        "id": "GamDYTwySgRT"
      }
    },
    {
      "cell_type": "code",
      "source": [
        "# Create a new entry file: example.py\n",
        "# !touch example.py\n",
        "# Then write content into it.\n",
        "# A better way in Colab is to directly write the content using %%writefile magic command.\n",
        "\n",
        "%%writefile hello-ngrok/example.py\n",
        "#!/usr/bin/env python\n",
        "\n",
        "from http.server import HTTPServer, BaseHTTPRequestHandler\n",
        "import logging, ngrok\n",
        "\n",
        "class HelloHandler(BaseHTTPRequestHandler):\n",
        "    def do_GET(self):\n",
        "        body = b\"Hello\"\n",
        "        self.protocol_version = \"HTTP/1.1\"\n",
        "        self.send_response(200)\n",
        "        self.send_header(\"Content-Length\", str(len(body)))\n",
        "        self.end_headers()\n",
        "        self.wfile.write(body)\n",
        "\n",
        "logging.basicConfig(level=logging.INFO)\n",
        "\n",
        "# Create the server and attach ngrok\n",
        "server = HTTPServer((\"localhost\", 0), HelloHandler)\n",
        "ngrok.listen(server)\n",
        "\n",
        "try:\n",
        "    logging.info(\"Starting server. Press Ctrl+C to stop.\")\n",
        "    server.serve_forever()\n",
        "except KeyboardInterrupt:\n",
        "    logging.info(\"Shutting down server...\")\n",
        "    server.server_close()\n",
        "    ngrok.kill()\n",
        "    logging.info(\"Server stopped cleanly.\")"
      ],
      "metadata": {
        "colab": {
          "base_uri": "https://localhost:8080/"
        },
        "id": "rKXnS5EZGoqw",
        "outputId": "83fd0f17-2c0f-42c7-9f2d-cac7f9e380ba"
      },
      "execution_count": null,
      "outputs": [
        {
          "output_type": "stream",
          "name": "stdout",
          "text": [
            "Writing hello-ngrok/example.py\n"
          ]
        }
      ]
    },
    {
      "cell_type": "code",
      "source": [
        "# Cell 5: Run your App with ngrok Authtoken\n",
        "\n",
        "import os\n",
        "from google.colab import userdata\n",
        "\n",
        "# Retrieve the authtoken from Colab Secrets\n",
        "# Ensure you've added NGROK_AUTHTOKEN to Colab Secrets on the left sidebar\n",
        "try:\n",
        "    ngrok_authtoken = userdata.get('NGROK_AUTHTOKEN')\n",
        "    if ngrok_authtoken is None:\n",
        "        raise ValueError(\"NGROK_AUTHTOKEN not found in Colab Secrets. Please add it.\")\n",
        "    os.environ[\"NGROK_AUTHTOKEN\"] = ngrok_authtoken\n",
        "    print(\"ngrok authtoken loaded from Colab Secrets.\")\n",
        "except ValueError as e:\n",
        "    print(f\"Error: {e}\")\n",
        "    print(\"Please add your NGROK_AUTHTOKEN to Colab Secrets using the key icon on the left sidebar.\")\n",
        "    # Exit or stop execution if authtoken is missing\n",
        "    raise\n",
        "\n",
        "# Now run the Python script\n",
        "!python3 hello-ngrok/example.py"
      ],
      "metadata": {
        "colab": {
          "base_uri": "https://localhost:8080/"
        },
        "id": "eIch7F3fGr75",
        "outputId": "05df9f50-2ab0-4347-f3ff-9b925ae1a399"
      },
      "execution_count": null,
      "outputs": [
        {
          "output_type": "stream",
          "name": "stdout",
          "text": [
            "ngrok authtoken loaded from Colab Secrets.\n",
            "INFO:ngrok.session:Session created with auth token\n",
            "INFO:ngrok.listener:Created listener \"7f9d9917e844fcf43499969a1028db36\" with url \"https://c60a0ec82750.ngrok-free.app\"\n",
            "INFO:root:Starting server. Press Ctrl+C to stop.\n",
            "INFO:ngrok.listener:Listener \"7f9d9917e844fcf43499969a1028db36\" forwarding to \"tcp://127.0.0.1:37355\"\n",
            "INFO:ngrok.tunnel_ext:forward_tunnel; tunnel_id=\"7f9d9917e844fcf43499969a1028db36\" url=tcp://127.0.0.1:37355\n",
            "127.0.0.1 - - [10/Aug/2025 17:55:05] \"GET / HTTP/1.1\" 200 -\n",
            "127.0.0.1 - - [10/Aug/2025 17:55:06] \"GET /favicon.ico HTTP/1.1\" 200 -\n",
            "INFO:root:Shutting down server...\n",
            "^C\n"
          ]
        }
      ]
    },
    {
      "cell_type": "markdown",
      "metadata": {
        "id": "02472ea6"
      },
      "source": [
        "# Task\n",
        "Explain the provided Python code for a Streamlit application and provide instructions on how to run and access the application using ngrok."
      ]
    },
    {
      "cell_type": "markdown",
      "metadata": {
        "id": "b4921505"
      },
      "source": [
        "## Write streamlit app to file\n",
        "\n",
        "### Subtask:\n",
        "Write the Streamlit code to a Python file.\n"
      ]
    },
    {
      "cell_type": "markdown",
      "metadata": {
        "id": "6bd512a3"
      },
      "source": [
        "**Reasoning**:\n",
        "Write the Streamlit code to a Python file using the `%%writefile` magic command.\n",
        "\n"
      ]
    },
    {
      "cell_type": "code",
      "metadata": {
        "colab": {
          "base_uri": "https://localhost:8080/"
        },
        "id": "a891d901",
        "outputId": "6da56cf5-82e9-4b75-a47f-f8dab53e4d2b"
      },
      "source": [],
      "execution_count": null,
      "outputs": [
        {
          "output_type": "stream",
          "name": "stdout",
          "text": [
            "Overwriting hello-ngrok/app.py\n"
          ]
        }
      ]
    },
    {
      "cell_type": "markdown",
      "metadata": {
        "id": "9f212605"
      },
      "source": [
        "## Run streamlit app with ngrok\n",
        "\n",
        "### Subtask:\n",
        "Use ngrok to expose the Streamlit app running on a local port.\n"
      ]
    },
    {
      "cell_type": "markdown",
      "metadata": {
        "id": "a80cd0cf"
      },
      "source": [
        "**Reasoning**:\n",
        "Run the streamlit app and expose it using ngrok.\n",
        "\n"
      ]
    },
    {
      "cell_type": "code",
      "metadata": {
        "colab": {
          "base_uri": "https://localhost:8080/"
        },
        "id": "2fdf0c55",
        "outputId": "930085ed-543a-4ac0-8119-c4517c2ede13"
      },
      "source": [],
      "execution_count": null,
      "outputs": [
        {
          "output_type": "stream",
          "name": "stdout",
          "text": [
            "ngrok authtoken loaded from Colab Secrets.\n",
            "ngrok tunnel established at: NgrokTunnel: \"https://ba3f340e8d80.ngrok-free.app\" -> \"http://localhost:8501\"\n"
          ]
        }
      ]
    },
    {
      "cell_type": "markdown",
      "metadata": {
        "id": "6638e728"
      },
      "source": [
        "## Summary:\n",
        "\n",
        "### Data Analysis Key Findings\n",
        "\n",
        "*   The Streamlit application code was successfully written to the `app.py` file within the `hello-ngrok` directory.\n",
        "*   The `pyngrok` library was successfully installed.\n",
        "*   The ngrok authtoken was successfully retrieved from Colab Secrets.\n",
        "*   An ngrok tunnel was successfully established to port 8501, exposing the Streamlit application to the internet.\n",
        "*   The Streamlit application was successfully started in the background.\n",
        "*   A public URL for accessing the Streamlit application via ngrok was generated.\n",
        "\n",
        "### Insights or Next Steps\n",
        "\n",
        "*   The Streamlit application is now accessible via the provided public ngrok URL, allowing external users to interact with it.\n",
        "*   Further development of the Streamlit app can be done by modifying the `hello-ngrok/app.py` file.\n"
      ]
    }
  ]
}