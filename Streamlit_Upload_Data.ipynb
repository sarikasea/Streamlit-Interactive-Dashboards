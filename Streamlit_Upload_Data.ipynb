{
  "nbformat": 4,
  "nbformat_minor": 0,
  "metadata": {
    "colab": {
      "provenance": [],
      "authorship_tag": "ABX9TyMBuxSTAooXyNdxMD9qUSw6",
      "include_colab_link": true
    },
    "kernelspec": {
      "name": "python3",
      "display_name": "Python 3"
    },
    "language_info": {
      "name": "python"
    }
  },
  "cells": [
    {
      "cell_type": "markdown",
      "metadata": {
        "id": "view-in-github",
        "colab_type": "text"
      },
      "source": [
        "<a href=\"https://colab.research.google.com/github/sarikasea/Streamlit-Interactive-Dashboards/blob/main/Streamlit_Upload_Data.ipynb\" target=\"_parent\"><img src=\"https://colab.research.google.com/assets/colab-badge.svg\" alt=\"Open In Colab\"/></a>"
      ]
    },
    {
      "cell_type": "code",
      "execution_count": 1,
      "metadata": {
        "id": "wtxxq7TXfXdf"
      },
      "outputs": [],
      "source": [
        "!pip install -q streamlit ngrok plotly pandas pyngrok\n"
      ]
    },
    {
      "cell_type": "code",
      "source": [
        "%%writefile streamlit_app.py\n",
        "import streamlit as st\n",
        "import pandas as pd\n",
        "import numpy as np\n",
        "import plotly.express as px\n",
        "\n",
        "st.set_page_config(layout=\"wide\")\n",
        "st.title(\"Interactive Pandas + Plotly Streamlit demo (Colab)\")\n",
        "\n",
        "add_option = st.radio(\"How do you want to load data?\", (\"Random\", \"Upload\"))\n",
        "if add_option == \"Random\":\n",
        "    df = pd.DataFrame(np.random.randn(100, 3), columns=[\"A\", \"B\", \"C\"])\n",
        "else:\n",
        "    uploaded = st.file_uploader(\"Choose a CSV\", type=\"csv\")\n",
        "    if uploaded:\n",
        "        df = pd.read_csv(uploaded)\n",
        "    else:\n",
        "        st.stop()\n",
        "st.dataframe(df)\n",
        "\n",
        "st.header(\"Plotly: Scatter Plot\")\n",
        "x_axis = st.selectbox(\"X Axis\", df.columns)\n",
        "y_axis = st.selectbox(\"Y Axis\", df.columns)\n",
        "fig = px.scatter(df, x=x_axis, y=y_axis)\n",
        "st.plotly_chart(fig)\n"
      ],
      "metadata": {
        "colab": {
          "base_uri": "https://localhost:8080/"
        },
        "id": "jVy9NuNqfeMy",
        "outputId": "ba736532-2c94-4a94-e39f-b3a697151c4e"
      },
      "execution_count": 2,
      "outputs": [
        {
          "output_type": "stream",
          "name": "stdout",
          "text": [
            "Overwriting streamlit_app.py\n"
          ]
        }
      ]
    },
    {
      "cell_type": "code",
      "source": [
        "import os\n",
        "from pyngrok import ngrok\n",
        "import threading\n",
        "import time\n",
        "\n",
        "from google.colab import userdata\n",
        "\n",
        "# Set ngrok authtoken (must be in Colab Secrets)\n",
        "ngrok_authtoken = userdata.get('NGROK_AUTHTOKEN')\n",
        "if ngrok_authtoken is None:\n",
        "    raise ValueError(\"NGROK_AUTHTOKEN not found in Colab Secrets. Please add it.\")\n",
        "os.environ[\"NGROK_AUTHTOKEN\"] = ngrok_authtoken\n",
        "\n",
        "# Threaded Streamlit runner\n",
        "def run():\n",
        "    os.system(\"streamlit run streamlit_app.py --server.port 8501 --server.enableCORS false --server.enableXsrfProtection false --browser.gatherUsageStats false\")\n",
        "\n",
        "thread = threading.Thread(target=run)\n",
        "thread.start()\n",
        "\n",
        "time.sleep(5)  # Wait for Streamlit to launch\n",
        "\n",
        "# Start ngrok tunnel and print URL\n",
        "public_url = ngrok.connect(8501).public_url\n",
        "print(f\"Streamlit app public URL: {public_url}\")\n"
      ],
      "metadata": {
        "colab": {
          "base_uri": "https://localhost:8080/"
        },
        "id": "tn0Scm1nfegM",
        "outputId": "f8ba6819-dabb-4857-8105-b2eb0e56b67e"
      },
      "execution_count": 3,
      "outputs": [
        {
          "output_type": "stream",
          "name": "stdout",
          "text": [
            "Streamlit app public URL: https://9b6138f6086f.ngrok-free.app\n"
          ]
        }
      ]
    },
    {
      "cell_type": "code",
      "source": [],
      "metadata": {
        "id": "mUBk3CBafejb"
      },
      "execution_count": null,
      "outputs": []
    },
    {
      "cell_type": "code",
      "source": [],
      "metadata": {
        "id": "EkaCx6Wofel4"
      },
      "execution_count": null,
      "outputs": []
    },
    {
      "cell_type": "code",
      "source": [],
      "metadata": {
        "id": "TJJXqrfIfeon"
      },
      "execution_count": null,
      "outputs": []
    }
  ]
}