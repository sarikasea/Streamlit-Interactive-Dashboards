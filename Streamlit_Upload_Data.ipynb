{
  "nbformat": 4,
  "nbformat_minor": 0,
  "metadata": {
    "colab": {
      "provenance": [],
      "authorship_tag": "ABX9TyNF658wtMYFRjj3uOcXzfBh",
      "include_colab_link": true
    },
    "kernelspec": {
      "name": "python3",
      "display_name": "Python 3"
    },
    "language_info": {
      "name": "python"
    }
  },
  "cells": [
    {
      "cell_type": "markdown",
      "metadata": {
        "id": "view-in-github",
        "colab_type": "text"
      },
      "source": [
        "<a href=\"https://colab.research.google.com/github/sarikasea/Streamlit-Interactive-Dashboards/blob/main/Streamlit_Upload_Data.ipynb\" target=\"_parent\"><img src=\"https://colab.research.google.com/assets/colab-badge.svg\" alt=\"Open In Colab\"/></a>"
      ]
    },
    {
      "cell_type": "code",
      "execution_count": 1,
      "metadata": {
        "id": "wtxxq7TXfXdf"
      },
      "outputs": [],
      "source": [
        "!pip install -q streamlit ngrok plotly pandas pyngrok\n"
      ]
    },
    {
      "cell_type": "code",
      "source": [
        "!pip install wbdata"
      ],
      "metadata": {
        "id": "e5kOpHdYizXo",
        "outputId": "6aadace3-13d4-498d-a413-1a1aec0353ed",
        "colab": {
          "base_uri": "https://localhost:8080/"
        }
      },
      "execution_count": 2,
      "outputs": [
        {
          "output_type": "stream",
          "name": "stdout",
          "text": [
            "Requirement already satisfied: wbdata in /usr/local/lib/python3.11/dist-packages (1.0.0)\n",
            "Requirement already satisfied: appdirs<2.0,>=1.4 in /usr/local/lib/python3.11/dist-packages (from wbdata) (1.4.4)\n",
            "Requirement already satisfied: backoff<3.0.0,>=2.2.1 in /usr/local/lib/python3.11/dist-packages (from wbdata) (2.2.1)\n",
            "Requirement already satisfied: cachetools<6.0.0,>=5.3.2 in /usr/local/lib/python3.11/dist-packages (from wbdata) (5.5.2)\n",
            "Requirement already satisfied: dateparser<2.0.0,>=1.2.0 in /usr/local/lib/python3.11/dist-packages (from wbdata) (1.2.2)\n",
            "Requirement already satisfied: decorator<6.0.0,>=5.1.1 in /usr/local/lib/python3.11/dist-packages (from wbdata) (5.2.1)\n",
            "Requirement already satisfied: requests<3.0,>=2.0 in /usr/local/lib/python3.11/dist-packages (from wbdata) (2.32.3)\n",
            "Requirement already satisfied: shelved-cache<0.4.0,>=0.3.1 in /usr/local/lib/python3.11/dist-packages (from wbdata) (0.3.1)\n",
            "Requirement already satisfied: tabulate<0.9.0,>=0.8.5 in /usr/local/lib/python3.11/dist-packages (from wbdata) (0.8.10)\n",
            "Requirement already satisfied: python-dateutil>=2.7.0 in /usr/local/lib/python3.11/dist-packages (from dateparser<2.0.0,>=1.2.0->wbdata) (2.9.0.post0)\n",
            "Requirement already satisfied: pytz>=2024.2 in /usr/local/lib/python3.11/dist-packages (from dateparser<2.0.0,>=1.2.0->wbdata) (2025.2)\n",
            "Requirement already satisfied: regex>=2024.9.11 in /usr/local/lib/python3.11/dist-packages (from dateparser<2.0.0,>=1.2.0->wbdata) (2024.11.6)\n",
            "Requirement already satisfied: tzlocal>=0.2 in /usr/local/lib/python3.11/dist-packages (from dateparser<2.0.0,>=1.2.0->wbdata) (5.3.1)\n",
            "Requirement already satisfied: charset-normalizer<4,>=2 in /usr/local/lib/python3.11/dist-packages (from requests<3.0,>=2.0->wbdata) (3.4.2)\n",
            "Requirement already satisfied: idna<4,>=2.5 in /usr/local/lib/python3.11/dist-packages (from requests<3.0,>=2.0->wbdata) (3.10)\n",
            "Requirement already satisfied: urllib3<3,>=1.21.1 in /usr/local/lib/python3.11/dist-packages (from requests<3.0,>=2.0->wbdata) (2.5.0)\n",
            "Requirement already satisfied: certifi>=2017.4.17 in /usr/local/lib/python3.11/dist-packages (from requests<3.0,>=2.0->wbdata) (2025.7.14)\n",
            "Requirement already satisfied: six>=1.5 in /usr/local/lib/python3.11/dist-packages (from python-dateutil>=2.7.0->dateparser<2.0.0,>=1.2.0->wbdata) (1.17.0)\n"
          ]
        }
      ]
    },
    {
      "cell_type": "code",
      "source": [
        "import matplotlib.pyplot as plt\n",
        "import seaborn as sns\n",
        "\n",
        "import wbdata"
      ],
      "metadata": {
        "id": "2rszyJDYiqnk"
      },
      "execution_count": 3,
      "outputs": []
    },
    {
      "cell_type": "code",
      "source": [
        "import streamlit as st\n",
        "import pandas as pd\n",
        "import numpy as np\n",
        "import plotly.express as px\n",
        "import wbdata\n",
        "import datetime\n",
        "\n",
        "st.set_page_config(layout=\"wide\")\n",
        "st.title(\"Combine Uploaded/Random Data with World Bank Data\")\n",
        "\n",
        "option = st.radio(\"Choose your data source:\", [\n",
        "    \"Random\",\n",
        "    \"Upload CSV\",\n",
        "    \"World Bank (wbdata)\"\n",
        "])\n",
        "\n",
        "df = None  # will hold your main data\n",
        "\n",
        "if option == \"Random\":\n",
        "    df = pd.DataFrame(np.random.randn(50, 3), columns=[\"A\", \"B\", \"C\"])\n",
        "\n",
        "elif option == \"Upload CSV\":\n",
        "    uploaded = st.file_uploader(\"Choose a CSV\", type=\"csv\")\n",
        "    if uploaded:\n",
        "        df = pd.read_csv(uploaded)\n",
        "    else:\n",
        "        st.stop()\n",
        "\n",
        "elif option == \"World Bank (wbdata)\":\n",
        "    countries = st.multiselect(\n",
        "        \"Select countries (ISO codes):\",\n",
        "        [\"USA\", \"CHN\", \"IND\", \"BRA\", \"CAN\", \"GBR\", \"FRA\", \"DEU\", \"JPN\", \"AUS\"],\n",
        "        default=[\"USA\", \"CHN\"]\n",
        "    )\n",
        "    indicators_dict = {\n",
        "        \"GDP (current US$)\": \"NY.GDP.MKTP.CD\",\n",
        "        \"Population\": \"SP.POP.TOTL\",\n",
        "        \"Life expectancy\": \"SP.DYN.LE00.IN\",\n",
        "    }\n",
        "    indicator_name = st.selectbox(\"Select indicator:\", list(indicators_dict.keys()))\n",
        "    indicator_id = indicators_dict[indicator_name]\n",
        "    start_year = st.slider(\"Start year\", 2000, 2022, 2015)\n",
        "    end_year = st.slider(\"End year\", 2000, 2022, 2022)\n",
        "    if st.button(\"Load World Bank Data\"):\n",
        "        with st.spinner(\"Fetching data...\"):\n",
        "            dates = (datetime.datetime(start_year, 1, 1), datetime.datetime(end_year, 12, 31))\n",
        "            df = wbdata.get_dataframe(\n",
        "                {indicator_id: indicator_name},\n",
        "                country=countries,\n",
        "                data_date=dates,\n",
        "                convert_date=True\n",
        "            )\n",
        "            df = df.reset_index()\n",
        "        st.success(f\"Loaded {len(df)} rows.\")\n",
        "\n",
        "# Show and analyze data if present\n",
        "if df is not None:\n",
        "    st.dataframe(df)\n",
        "\n",
        "    st.subheader(\"Summary Stats\")\n",
        "    st.write(df.describe())\n",
        "\n",
        "    # Example: plot if at least two numeric columns are available\n",
        "    numeric_cols = df.select_dtypes(include='number').columns\n",
        "    if len(numeric_cols) > 1:\n",
        "        x_axis = st.selectbox(\"X axis\", numeric_cols)\n",
        "        y_axis = st.selectbox(\"Y axis\", numeric_cols, index=1)\n",
        "        fig = px.scatter(df, x=x_axis, y=y_axis)\n",
        "        st.plotly_chart(fig)\n",
        "    else:\n",
        "        st.write(\"Not enough numeric columns to plot.\")\n",
        "else:\n",
        "    st.info(\"Choose data source to begin.\")\n",
        "\n",
        "# --- Example: combine with another source (advanced) ---\n",
        "# Representative if you want to merge/join data sources\n",
        "# The user can select/merge a second source in a similar way,\n",
        "# then use pd.concat([df1, df2]) for vertical stacking\n",
        "\n"
      ],
      "metadata": {
        "colab": {
          "base_uri": "https://localhost:8080/"
        },
        "id": "jVy9NuNqfeMy",
        "outputId": "9bf96d86-3991-4a39-ca4f-b3eefa882ae8"
      },
      "execution_count": 4,
      "outputs": [
        {
          "output_type": "stream",
          "name": "stderr",
          "text": [
            "2025-07-29 04:59:06.409 WARNING streamlit.runtime.scriptrunner_utils.script_run_context: Thread 'MainThread': missing ScriptRunContext! This warning can be ignored when running in bare mode.\n",
            "2025-07-29 04:59:06.411 WARNING streamlit.runtime.scriptrunner_utils.script_run_context: Thread 'MainThread': missing ScriptRunContext! This warning can be ignored when running in bare mode.\n",
            "2025-07-29 04:59:06.797 \n",
            "  \u001b[33m\u001b[1mWarning:\u001b[0m to view this Streamlit app on a browser, run it with the following\n",
            "  command:\n",
            "\n",
            "    streamlit run /usr/local/lib/python3.11/dist-packages/colab_kernel_launcher.py [ARGUMENTS]\n",
            "2025-07-29 04:59:06.801 Thread 'MainThread': missing ScriptRunContext! This warning can be ignored when running in bare mode.\n",
            "2025-07-29 04:59:06.804 Thread 'MainThread': missing ScriptRunContext! This warning can be ignored when running in bare mode.\n",
            "2025-07-29 04:59:06.807 Thread 'MainThread': missing ScriptRunContext! This warning can be ignored when running in bare mode.\n",
            "2025-07-29 04:59:06.809 Thread 'MainThread': missing ScriptRunContext! This warning can be ignored when running in bare mode.\n",
            "2025-07-29 04:59:06.812 Thread 'MainThread': missing ScriptRunContext! This warning can be ignored when running in bare mode.\n",
            "2025-07-29 04:59:06.815 Thread 'MainThread': missing ScriptRunContext! This warning can be ignored when running in bare mode.\n",
            "2025-07-29 04:59:06.817 Session state does not function when running a script without `streamlit run`\n",
            "2025-07-29 04:59:06.820 Thread 'MainThread': missing ScriptRunContext! This warning can be ignored when running in bare mode.\n",
            "2025-07-29 04:59:06.822 Thread 'MainThread': missing ScriptRunContext! This warning can be ignored when running in bare mode.\n",
            "2025-07-29 04:59:06.825 Thread 'MainThread': missing ScriptRunContext! This warning can be ignored when running in bare mode.\n",
            "2025-07-29 04:59:06.833 Thread 'MainThread': missing ScriptRunContext! This warning can be ignored when running in bare mode.\n",
            "2025-07-29 04:59:06.836 Thread 'MainThread': missing ScriptRunContext! This warning can be ignored when running in bare mode.\n",
            "2025-07-29 04:59:06.839 Thread 'MainThread': missing ScriptRunContext! This warning can be ignored when running in bare mode.\n",
            "2025-07-29 04:59:06.841 Thread 'MainThread': missing ScriptRunContext! This warning can be ignored when running in bare mode.\n",
            "2025-07-29 04:59:06.844 Thread 'MainThread': missing ScriptRunContext! This warning can be ignored when running in bare mode.\n",
            "2025-07-29 04:59:06.846 Thread 'MainThread': missing ScriptRunContext! This warning can be ignored when running in bare mode.\n",
            "2025-07-29 04:59:06.865 Thread 'MainThread': missing ScriptRunContext! This warning can be ignored when running in bare mode.\n",
            "2025-07-29 04:59:06.868 Thread 'MainThread': missing ScriptRunContext! This warning can be ignored when running in bare mode.\n",
            "2025-07-29 04:59:06.869 Thread 'MainThread': missing ScriptRunContext! This warning can be ignored when running in bare mode.\n",
            "2025-07-29 04:59:06.871 Thread 'MainThread': missing ScriptRunContext! This warning can be ignored when running in bare mode.\n",
            "2025-07-29 04:59:06.872 Thread 'MainThread': missing ScriptRunContext! This warning can be ignored when running in bare mode.\n",
            "2025-07-29 04:59:06.874 Thread 'MainThread': missing ScriptRunContext! This warning can be ignored when running in bare mode.\n",
            "2025-07-29 04:59:06.875 Thread 'MainThread': missing ScriptRunContext! This warning can be ignored when running in bare mode.\n",
            "2025-07-29 04:59:06.876 Thread 'MainThread': missing ScriptRunContext! This warning can be ignored when running in bare mode.\n",
            "2025-07-29 04:59:06.877 Thread 'MainThread': missing ScriptRunContext! This warning can be ignored when running in bare mode.\n",
            "2025-07-29 04:59:06.878 Thread 'MainThread': missing ScriptRunContext! This warning can be ignored when running in bare mode.\n",
            "2025-07-29 04:59:06.879 Thread 'MainThread': missing ScriptRunContext! This warning can be ignored when running in bare mode.\n",
            "2025-07-29 04:59:06.879 Thread 'MainThread': missing ScriptRunContext! This warning can be ignored when running in bare mode.\n",
            "2025-07-29 04:59:06.881 Thread 'MainThread': missing ScriptRunContext! This warning can be ignored when running in bare mode.\n",
            "2025-07-29 04:59:06.882 Thread 'MainThread': missing ScriptRunContext! This warning can be ignored when running in bare mode.\n",
            "2025-07-29 04:59:06.883 Thread 'MainThread': missing ScriptRunContext! This warning can be ignored when running in bare mode.\n",
            "2025-07-29 04:59:06.884 Thread 'MainThread': missing ScriptRunContext! This warning can be ignored when running in bare mode.\n",
            "2025-07-29 04:59:06.886 Thread 'MainThread': missing ScriptRunContext! This warning can be ignored when running in bare mode.\n",
            "2025-07-29 04:59:07.036 Thread 'MainThread': missing ScriptRunContext! This warning can be ignored when running in bare mode.\n",
            "2025-07-29 04:59:07.037 Thread 'MainThread': missing ScriptRunContext! This warning can be ignored when running in bare mode.\n",
            "2025-07-29 04:59:07.038 Thread 'MainThread': missing ScriptRunContext! This warning can be ignored when running in bare mode.\n",
            "2025-07-29 04:59:07.039 Thread 'MainThread': missing ScriptRunContext! This warning can be ignored when running in bare mode.\n",
            "2025-07-29 04:59:07.040 Thread 'MainThread': missing ScriptRunContext! This warning can be ignored when running in bare mode.\n"
          ]
        }
      ]
    },
    {
      "cell_type": "code",
      "source": [
        "import os\n",
        "from pyngrok import ngrok\n",
        "import threading\n",
        "import time\n",
        "\n",
        "from google.colab import userdata\n",
        "\n",
        "# Set ngrok authtoken (must be in Colab Secrets)\n",
        "ngrok_authtoken = userdata.get('NGROK_AUTHTOKEN')\n",
        "if ngrok_authtoken is None:\n",
        "    raise ValueError(\"NGROK_AUTHTOKEN not found in Colab Secrets. Please add it.\")\n",
        "os.environ[\"NGROK_AUTHTOKEN\"] = ngrok_authtoken\n",
        "\n",
        "# Threaded Streamlit runner\n",
        "def run():\n",
        "    os.system(\"streamlit run streamlit_app.py --server.port 8501 --server.enableCORS false --server.enableXsrfProtection false --browser.gatherUsageStats false\")\n",
        "\n",
        "thread = threading.Thread(target=run)\n",
        "thread.start()\n",
        "\n",
        "time.sleep(5)  # Wait for Streamlit to launch\n",
        "\n",
        "# Start ngrok tunnel and print URL\n",
        "public_url = ngrok.connect(8501).public_url\n",
        "print(f\"Streamlit app public URL: {public_url}\")\n"
      ],
      "metadata": {
        "colab": {
          "base_uri": "https://localhost:8080/"
        },
        "id": "tn0Scm1nfegM",
        "outputId": "e83be8f7-1e9a-49af-c287-618a2f12d648"
      },
      "execution_count": 5,
      "outputs": [
        {
          "output_type": "stream",
          "name": "stdout",
          "text": [
            "Streamlit app public URL: https://f88140eddc00.ngrok-free.app\n"
          ]
        }
      ]
    },
    {
      "cell_type": "code",
      "source": [],
      "metadata": {
        "id": "mUBk3CBafejb"
      },
      "execution_count": null,
      "outputs": []
    },
    {
      "cell_type": "code",
      "source": [],
      "metadata": {
        "id": "EkaCx6Wofel4"
      },
      "execution_count": null,
      "outputs": []
    },
    {
      "cell_type": "code",
      "source": [],
      "metadata": {
        "id": "TJJXqrfIfeon"
      },
      "execution_count": null,
      "outputs": []
    }
  ]
}